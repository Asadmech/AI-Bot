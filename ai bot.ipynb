{
 "cells": [
  {
   "cell_type": "code",
   "execution_count": 1,
   "id": "db2b7700",
   "metadata": {},
   "outputs": [],
   "source": [
    "import os\n",
    "from dotenv import load_dotenv\n"
   ]
  },
  {
   "cell_type": "code",
   "execution_count": 2,
   "id": "5dd23d4c",
   "metadata": {},
   "outputs": [
    {
     "data": {
      "text/plain": [
       "True"
      ]
     },
     "execution_count": 2,
     "metadata": {},
     "output_type": "execute_result"
    }
   ],
   "source": [
    "load_dotenv()"
   ]
  },
  {
   "cell_type": "code",
   "execution_count": 3,
   "id": "7f8acb93",
   "metadata": {},
   "outputs": [],
   "source": [
    "api_key = os.environ.get(\"API_Key\")"
   ]
  },
  {
   "cell_type": "code",
   "execution_count": 4,
   "id": "060da818",
   "metadata": {},
   "outputs": [],
   "source": [
    "model = os.environ.get(\"model\")"
   ]
  },
  {
   "cell_type": "code",
   "execution_count": 5,
   "id": "7f1fc1cc",
   "metadata": {},
   "outputs": [],
   "source": [
    "base_url = os.environ.get(\"base_url\")"
   ]
  },
  {
   "cell_type": "code",
   "execution_count": 6,
   "id": "bedbdf1c",
   "metadata": {},
   "outputs": [
    {
     "data": {
      "text/plain": [
       "'gpt-3.5-turbo'"
      ]
     },
     "execution_count": 6,
     "metadata": {},
     "output_type": "execute_result"
    }
   ],
   "source": [
    "model"
   ]
  },
  {
   "cell_type": "code",
   "execution_count": 7,
   "id": "a00476b0",
   "metadata": {},
   "outputs": [],
   "source": [
    "from openai import OpenAI"
   ]
  },
  {
   "cell_type": "code",
   "execution_count": 8,
   "id": "965fcd07",
   "metadata": {},
   "outputs": [],
   "source": [
    "client = OpenAI(api_key = api_key , base_url = base_url)"
   ]
  },
  {
   "cell_type": "code",
   "execution_count": 9,
   "id": "38351556",
   "metadata": {},
   "outputs": [],
   "source": [
    "response = client.chat.completions.create(\n",
    "  model=\"gpt-3.5-turbo\",\n",
    "  messages=[\n",
    "    {\"role\": \"system\", \"content\": \"You are a helpful assistant.\"},\n",
    "    {\"role\": \"user\", \"content\": \"suggest 2 good books?\"}],\n",
    "    max_tokens = 50,\n",
    "    temperature = 0.7\n",
    "    )\n",
    "    "
   ]
  },
  {
   "cell_type": "code",
   "execution_count": 10,
   "id": "6aa78306",
   "metadata": {},
   "outputs": [
    {
     "name": "stdout",
     "output_type": "stream",
     "text": [
      "ChatCompletion(id='chatcmpl-94I4rQjX99fsEibRAWE4GB5harjpF', choices=[Choice(finish_reason='length', index=0, logprobs=None, message=ChatCompletionMessage(content='Sure! Here are two highly recommended books:\\n\\n1. \"The Alchemist\" by Paulo Coelho - A captivating novel about a young shepherd named Santiago who embarks on a journey to fulfill his personal legend.\\n\\n2. \"Educated\" by Tara', role='assistant', function_call=None, tool_calls=None))], created=1710809829, model='gpt-3.5-turbo-0125', object='chat.completion', system_fingerprint='fp_4f2ebda25a', usage=CompletionUsage(completion_tokens=50, prompt_tokens=23, total_tokens=73))\n"
     ]
    }
   ],
   "source": [
    "print(response)"
   ]
  },
  {
   "cell_type": "code",
   "execution_count": 11,
   "id": "aac6b8aa",
   "metadata": {},
   "outputs": [],
   "source": [
    "response =response.choices[0].message.content"
   ]
  },
  {
   "cell_type": "code",
   "execution_count": 12,
   "id": "f94227ac",
   "metadata": {},
   "outputs": [
    {
     "name": "stdout",
     "output_type": "stream",
     "text": [
      "Sure! Here are two highly recommended books:\n",
      "\n",
      "1. \"The Alchemist\" by Paulo Coelho - A captivating novel about a young shepherd named Santiago who embarks on a journey to fulfill his personal legend.\n",
      "\n",
      "2. \"Educated\" by Tara\n"
     ]
    }
   ],
   "source": [
    "print(response)"
   ]
  },
  {
   "cell_type": "code",
   "execution_count": 13,
   "id": "043b445a",
   "metadata": {},
   "outputs": [],
   "source": [
    "class Bot:\n",
    "    def __init__(self,api_key,base_url = base_url ,model =model ,sys_role=\"You are data science teacher\"):\n",
    "        self.client = OpenAI(api_key = api_key)\n",
    "        self.api_key = api_key\n",
    "        self.base_url= base_url\n",
    "        self.model = model\n",
    "        self.sys_role = sys_role\n",
    "        \n",
    "    def chat_completion(self,prompt,max_tokens = 50 ,temperature = 0.7):\n",
    "        messages =  [{\"role\": \"system\", \"content\": self.sys_role},\n",
    "                     {\"role\": \"user\", \"content\": prompt}]\n",
    "        \n",
    "        response = self.client.chat.completions.create(\n",
    "            model= model,\n",
    "            messages=messages,\n",
    "            max_tokens = max_tokens,\n",
    "            temperature = temperature\n",
    "        )\n",
    "        \n",
    "        ai_response =response.choices[0].message.content\n",
    "        return ai_response\n"
   ]
  },
  {
   "cell_type": "code",
   "execution_count": 14,
   "id": "76573476",
   "metadata": {},
   "outputs": [],
   "source": [
    "ds_bot = Bot(api_key = api_key)"
   ]
  },
  {
   "cell_type": "code",
   "execution_count": 15,
   "id": "22bff3e3",
   "metadata": {},
   "outputs": [
    {
     "name": "stdout",
     "output_type": "stream",
     "text": [
      "1. Predicting house prices based on features like square footage, number of bedrooms, and location\n",
      "2. Sentiment analysis on movie reviews to determine if they are positive or negative\n",
      "3. Identifying handwritten digits using machine learning algorithms\n"
     ]
    }
   ],
   "source": [
    "ai_response= ds_bot.chat_completion(prompt = \"3 projects name for beginner level?\")\n",
    "print(ai_response)"
   ]
  },
  {
   "cell_type": "code",
   "execution_count": 16,
   "id": "3b33fce5",
   "metadata": {},
   "outputs": [],
   "source": [
    "class Bot:\n",
    "    def __init__(self,api_key,base_url = base_url ,model =model ,sys_role=\"You are data science teacher\"):\n",
    "        self.client = OpenAI(api_key = api_key)\n",
    "        self.api_key = api_key\n",
    "        self.base_url= base_url\n",
    "        self.model = model\n",
    "        self.sys_role = sys_role\n",
    "        self.conversation_history = [{\"role\": \"system\", \"content\": self.sys_role}]\n",
    "        \n",
    "    def chat_completion(self,prompt,max_tokens = 50 ,temperature = 0.7):\n",
    "        self.conversation_history.append({\"role\": \"user\", \"content\": prompt})\n",
    "        messages =  [{\"role\": \"system\", \"content\": self.sys_role},\n",
    "                     {\"role\": \"user\", \"content\": prompt}]\n",
    "        \n",
    "        response = self.client.chat.completions.create(\n",
    "            model= model,\n",
    "            messages=messages,\n",
    "            max_tokens = max_tokens,\n",
    "            temperature = temperature\n",
    "        )\n",
    "        \n",
    "        \n",
    "        ai_response =response.choices[0].message.content\n",
    "        self.conversation_history.append({\"role\": \"assistant\", \"content\": ai_response})\n",
    "        return ai_response"
   ]
  },
  {
   "cell_type": "code",
   "execution_count": 17,
   "id": "0dbce6e7",
   "metadata": {},
   "outputs": [
    {
     "name": "stdout",
     "output_type": "stream",
     "text": [
      "1. \"The Alchemist\" by Paulo Coelho\n",
      "2. \"Educated\" by Tara Westover\n",
      "3. \"The Nightingale\" by Kristin Hannah\n",
      "4. \"Born a Crime\" by Trevor Noah\n",
      "5. \"\n"
     ]
    }
   ],
   "source": [
    "Anna = Bot(api_key = api_key , sys_role = \"you are personal assistant\")\n",
    "ai_response=Anna.chat_completion(prompt=\"Suggest me 5 book names to read\")\n",
    "print(ai_response)"
   ]
  },
  {
   "cell_type": "code",
   "execution_count": 18,
   "id": "ea8ace02",
   "metadata": {},
   "outputs": [
    {
     "data": {
      "text/plain": [
       "[{'role': 'system', 'content': 'you are personal assistant'},\n",
       " {'role': 'user', 'content': 'Suggest me 5 book names to read'},\n",
       " {'role': 'assistant',\n",
       "  'content': '1. \"The Alchemist\" by Paulo Coelho\\n2. \"Educated\" by Tara Westover\\n3. \"The Nightingale\" by Kristin Hannah\\n4. \"Born a Crime\" by Trevor Noah\\n5. \"'}]"
      ]
     },
     "execution_count": 18,
     "metadata": {},
     "output_type": "execute_result"
    }
   ],
   "source": [
    "Anna.conversation_history"
   ]
  },
  {
   "cell_type": "code",
   "execution_count": 19,
   "id": "411dcbbf",
   "metadata": {},
   "outputs": [
    {
     "name": "stdout",
     "output_type": "stream",
     "text": [
      "Prioritize tasks, set realistic goals, minimize distractions, use a calendar or planner, take breaks, and delegate when possible.\n"
     ]
    }
   ],
   "source": [
    "ai_response=Anna.chat_completion(prompt=\"How to manage time in few words\")\n",
    "print(ai_response)"
   ]
  },
  {
   "cell_type": "code",
   "execution_count": 20,
   "id": "ba14f2c4",
   "metadata": {},
   "outputs": [
    {
     "data": {
      "text/plain": [
       "[{'role': 'system', 'content': 'you are personal assistant'},\n",
       " {'role': 'user', 'content': 'Suggest me 5 book names to read'},\n",
       " {'role': 'assistant',\n",
       "  'content': '1. \"The Alchemist\" by Paulo Coelho\\n2. \"Educated\" by Tara Westover\\n3. \"The Nightingale\" by Kristin Hannah\\n4. \"Born a Crime\" by Trevor Noah\\n5. \"'},\n",
       " {'role': 'user', 'content': 'How to manage time in few words'},\n",
       " {'role': 'assistant',\n",
       "  'content': 'Prioritize tasks, set realistic goals, minimize distractions, use a calendar or planner, take breaks, and delegate when possible.'}]"
      ]
     },
     "execution_count": 20,
     "metadata": {},
     "output_type": "execute_result"
    }
   ],
   "source": [
    "Anna.conversation_history"
   ]
  },
  {
   "cell_type": "code",
   "execution_count": 21,
   "id": "2367bfce",
   "metadata": {},
   "outputs": [],
   "source": [
    "import tiktoken"
   ]
  },
  {
   "cell_type": "code",
   "execution_count": 22,
   "id": "90346d82",
   "metadata": {},
   "outputs": [],
   "source": [
    "encoding =tiktoken.encoding_for_model(model)\n",
    "tokens = encoding.encode(\"Suggest me 5 book names to read\")\n"
   ]
  },
  {
   "cell_type": "code",
   "execution_count": 23,
   "id": "07365bec",
   "metadata": {},
   "outputs": [
    {
     "data": {
      "text/plain": [
       "[50, 3884, 757, 220, 20, 2363, 5144, 311, 1373]"
      ]
     },
     "execution_count": 23,
     "metadata": {},
     "output_type": "execute_result"
    }
   ],
   "source": [
    "tokens"
   ]
  },
  {
   "cell_type": "code",
   "execution_count": 24,
   "id": "7705c0ef",
   "metadata": {},
   "outputs": [
    {
     "data": {
      "text/plain": [
       "9"
      ]
     },
     "execution_count": 24,
     "metadata": {},
     "output_type": "execute_result"
    }
   ],
   "source": [
    "len(tokens)"
   ]
  },
  {
   "cell_type": "code",
   "execution_count": 25,
   "id": "b4c37195",
   "metadata": {},
   "outputs": [
    {
     "data": {
      "text/plain": [
       "[{'role': 'system', 'content': 'you are personal assistant'},\n",
       " {'role': 'user', 'content': 'Suggest me 5 book names to read'},\n",
       " {'role': 'assistant',\n",
       "  'content': '1. \"The Alchemist\" by Paulo Coelho\\n2. \"Educated\" by Tara Westover\\n3. \"The Nightingale\" by Kristin Hannah\\n4. \"Born a Crime\" by Trevor Noah\\n5. \"'},\n",
       " {'role': 'user', 'content': 'How to manage time in few words'},\n",
       " {'role': 'assistant',\n",
       "  'content': 'Prioritize tasks, set realistic goals, minimize distractions, use a calendar or planner, take breaks, and delegate when possible.'}]"
      ]
     },
     "execution_count": 25,
     "metadata": {},
     "output_type": "execute_result"
    }
   ],
   "source": [
    "Anna.conversation_history"
   ]
  },
  {
   "cell_type": "code",
   "execution_count": 26,
   "id": "bc20d942",
   "metadata": {},
   "outputs": [
    {
     "name": "stdout",
     "output_type": "stream",
     "text": [
      "you are personal assistant\n",
      "Suggest me 5 book names to read\n",
      "1. \"The Alchemist\" by Paulo Coelho\n",
      "2. \"Educated\" by Tara Westover\n",
      "3. \"The Nightingale\" by Kristin Hannah\n",
      "4. \"Born a Crime\" by Trevor Noah\n",
      "5. \"\n",
      "How to manage time in few words\n",
      "Prioritize tasks, set realistic goals, minimize distractions, use a calendar or planner, take breaks, and delegate when possible.\n"
     ]
    }
   ],
   "source": [
    "for d in Anna.conversation_history:\n",
    "    print(d[\"content\"])"
   ]
  },
  {
   "cell_type": "code",
   "execution_count": 27,
   "id": "0b49fd93",
   "metadata": {},
   "outputs": [],
   "source": [
    "ttud = 0\n",
    "for d in Anna.conversation_history:\n",
    "    text = d[\"content\"]\n",
    "    tokens = encoding.encode(text)\n",
    "    total_tokens = len(tokens)\n",
    "    \n",
    "    ttud += total_tokens\n",
    "    \n"
   ]
  },
  {
   "cell_type": "code",
   "execution_count": 28,
   "id": "7efc20e7",
   "metadata": {},
   "outputs": [
    {
     "data": {
      "text/plain": [
       "95"
      ]
     },
     "execution_count": 28,
     "metadata": {},
     "output_type": "execute_result"
    }
   ],
   "source": [
    "ttud"
   ]
  },
  {
   "cell_type": "code",
   "execution_count": 29,
   "id": "2d832b4d",
   "metadata": {},
   "outputs": [],
   "source": [
    "class Bot:\n",
    "    def __init__(self,api_key,base_url = base_url ,model =model ,sys_role=\"You are data science teacher\"):\n",
    "        self.client = OpenAI(api_key = api_key)\n",
    "        self.api_key = api_key\n",
    "        self.base_url= base_url\n",
    "        self.model = model\n",
    "        self.sys_role = sys_role\n",
    "        self.conversation_history = [{\"role\": \"system\", \"content\": self.sys_role}]\n",
    "        \n",
    "    def count_tokens(self,text):\n",
    "        try:\n",
    "            encoding =tiktoken.encoding_for_model(self.model)\n",
    "        except KeyError:\n",
    "            encoding =tiktoken.encoding_for_model(\"cl100k_base\")\n",
    "            \n",
    "        tokens = encoding.encode(text)\n",
    "        \n",
    "        return len(tokens)\n",
    "        \n",
    "    def total_tokens_count(self):\n",
    "        ttud = 0\n",
    "        for d in self.conversation_history:\n",
    "            text = d[\"content\"]\n",
    "#             tokens = encoding.encode(text)\n",
    "#             total_tokens = len(tokens)\n",
    "            total_tokens = self.count_tokens(text)\n",
    "\n",
    "            ttud += total_tokens\n",
    "        return ttud\n",
    "        \n",
    "        \n",
    "        \n",
    "        \n",
    "    def chat_completion(self,prompt,max_tokens = 50 ,temperature = 0.7):\n",
    "        self.conversation_history.append({\"role\": \"user\", \"content\": prompt})\n",
    "        messages =  [{\"role\": \"system\", \"content\": self.sys_role},\n",
    "                     {\"role\": \"user\", \"content\": prompt}]\n",
    "        \n",
    "        response = self.client.chat.completions.create(\n",
    "            model= model,\n",
    "            messages=messages,\n",
    "            max_tokens = max_tokens,\n",
    "            temperature = temperature\n",
    "        )\n",
    "        \n",
    "        \n",
    "        ai_response =response.choices[0].message.content\n",
    "        self.conversation_history.append({\"role\": \"assistant\", \"content\": ai_response})\n",
    "        return ai_response"
   ]
  },
  {
   "cell_type": "code",
   "execution_count": 30,
   "id": "cf29b28b",
   "metadata": {},
   "outputs": [
    {
     "name": "stdout",
     "output_type": "stream",
     "text": [
      "1. \"Sapiens: A Brief History of Humankind\" by Yuval Noah Harari\n",
      "2. \"Thinking, Fast and Slow\" by Daniel Kahneman\n",
      "3. \"The Power of Habit: Why We Do What We Do in\n"
     ]
    }
   ],
   "source": [
    "Anna = Bot(api_key = api_key , sys_role = \"you are data scientist\")\n",
    "ai_response=Anna.chat_completion(prompt=\" 5 interesting books name\")\n",
    "print(ai_response)"
   ]
  },
  {
   "cell_type": "code",
   "execution_count": 31,
   "id": "f310f784",
   "metadata": {},
   "outputs": [
    {
     "data": {
      "text/plain": [
       "[{'role': 'system', 'content': 'you are data scientist'},\n",
       " {'role': 'user', 'content': ' 5 interesting books name'},\n",
       " {'role': 'assistant',\n",
       "  'content': '1. \"Sapiens: A Brief History of Humankind\" by Yuval Noah Harari\\n2. \"Thinking, Fast and Slow\" by Daniel Kahneman\\n3. \"The Power of Habit: Why We Do What We Do in'}]"
      ]
     },
     "execution_count": 31,
     "metadata": {},
     "output_type": "execute_result"
    }
   ],
   "source": [
    "Anna.conversation_history"
   ]
  },
  {
   "cell_type": "code",
   "execution_count": 32,
   "id": "5397fd07",
   "metadata": {},
   "outputs": [
    {
     "data": {
      "text/plain": [
       "59"
      ]
     },
     "execution_count": 32,
     "metadata": {},
     "output_type": "execute_result"
    }
   ],
   "source": [
    "Anna.total_tokens_count()"
   ]
  },
  {
   "cell_type": "code",
   "execution_count": 33,
   "id": "ec64d78e",
   "metadata": {},
   "outputs": [],
   "source": [
    "class Bot:\n",
    "    def __init__(self,api_key,base_url = base_url ,model =model ,sys_role=\"You are data science teacher\",token_budget=1000):\n",
    "        self.client = OpenAI(api_key = api_key)\n",
    "        self.api_key = api_key\n",
    "        self.base_url= base_url\n",
    "        self.token_budget = token_budget\n",
    "        self.model = model\n",
    "        self.sys_role = sys_role\n",
    "        self.conversation_history = [{\"role\": \"system\", \"content\": self.sys_role}]\n",
    "        \n",
    "    def count_tokens(self,text):\n",
    "        try:\n",
    "            encoding =tiktoken.encoding_for_model(self.model)\n",
    "        except KeyError:\n",
    "            encoding =tiktoken.encoding_for_model(\"cl100k_base\")\n",
    "            \n",
    "        tokens = encoding.encode(text)\n",
    "        \n",
    "        return len(tokens)\n",
    "        \n",
    "    def total_tokens_count(self):\n",
    "        ttud = 0\n",
    "        for d in self.conversation_history:\n",
    "            text = d[\"content\"]\n",
    "#             tokens = encoding.encode(text)\n",
    "#             total_tokens = len(tokens)\n",
    "            total_tokens = self.count_tokens(text)\n",
    "\n",
    "            ttud += total_tokens\n",
    "        return ttud\n",
    "    \n",
    "    def enforce_token_budget(self):\n",
    "        while self.total_tokens_count >= self.token_budget:\n",
    "            if len(self.conversation_history) <=1:\n",
    "                break\n",
    "                \n",
    "            self.conversation_history.pop(1) #length 2\n",
    "            \n",
    "        \n",
    "        \n",
    "        \n",
    "        \n",
    "        \n",
    "        \n",
    "    def chat_completion(self,prompt,max_tokens = 50 ,temperature = 0.7):\n",
    "        self.conversation_history.append({\"role\": \"user\", \"content\": prompt})\n",
    "        messages =  [{\"role\": \"system\", \"content\": self.sys_role},\n",
    "                     {\"role\": \"user\", \"content\": prompt}]\n",
    "        self.enforce_token_budget()\n",
    "        \n",
    "        response = self.client.chat.completions.create(\n",
    "            model= model,\n",
    "            messages=messages,\n",
    "            max_tokens = max_tokens,\n",
    "            temperature = temperature\n",
    "        )\n",
    "        \n",
    "        \n",
    "        ai_response =response.choices[0].message.content\n",
    "        self.conversation_history.append({\"role\": \"assistant\", \"content\": ai_response})\n",
    "        return ai_response"
   ]
  },
  {
   "cell_type": "code",
   "execution_count": null,
   "id": "8590f5e0",
   "metadata": {},
   "outputs": [],
   "source": []
  }
 ],
 "metadata": {
  "kernelspec": {
   "display_name": "Python 3 (ipykernel)",
   "language": "python",
   "name": "python3"
  },
  "language_info": {
   "codemirror_mode": {
    "name": "ipython",
    "version": 3
   },
   "file_extension": ".py",
   "mimetype": "text/x-python",
   "name": "python",
   "nbconvert_exporter": "python",
   "pygments_lexer": "ipython3",
   "version": "3.11.5"
  }
 },
 "nbformat": 4,
 "nbformat_minor": 5
}
